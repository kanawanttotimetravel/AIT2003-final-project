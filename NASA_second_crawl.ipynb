{
 "cells": [
  {
   "cell_type": "code",
   "execution_count": null,
   "outputs": [],
   "source": [
    "import numpy as np\n",
    "import pandas as pd\n",
    "from facebook_scraper import get_posts\n",
    "import time"
   ],
   "metadata": {
    "collapsed": false
   }
  },
  {
   "cell_type": "code",
   "execution_count": null,
   "metadata": {
    "collapsed": true
   },
   "outputs": [],
   "source": [
    "FANPAGE_ID = 'NASA'\n",
    "FOLDER_PATH = 'Data/'\n",
    "COOKIE_PATH = \"./second_cookies.txt\"\n",
    "\n",
    "PAGES_NUMBER = 50\n",
    "post_url_list = []\n",
    "post_list = []"
   ]
  },
  {
   "cell_type": "code",
   "execution_count": null,
   "outputs": [],
   "source": [
    "post_gen = get_posts(account=FANPAGE_ID,\n",
    "                     options={\"comments\": False, \"reactions\": False, \"allow_extra_requests\": False},\n",
    "                     extra_info=False, pages=PAGES_NUMBER, cookies=COOKIE_PATH)\n",
    "for post in post_gen:\n",
    "    post_url_list.append(post['post_url'])"
   ],
   "metadata": {
    "collapsed": false
   }
  },
  {
   "cell_type": "code",
   "execution_count": null,
   "outputs": [],
   "source": [
    "len(post_url_list)"
   ],
   "metadata": {
    "collapsed": false
   }
  },
  {
   "cell_type": "code",
   "execution_count": null,
   "outputs": [],
   "source": [
    "for post_url in post_url_list:\n",
    "    post = next(get_posts(post_urls=[post_url],\n",
    "                          options={\"comments\": True, \"reactions\": True, \"allow_extra_requests\": True},\n",
    "                          cookies=COOKIE_PATH))\n",
    "    post_list.append(post)\n",
    "    time.sleep(20)"
   ],
   "metadata": {
    "collapsed": false
   }
  },
  {
   "cell_type": "code",
   "execution_count": null,
   "outputs": [],
   "source": [
    "len(post_list)"
   ],
   "metadata": {
    "collapsed": false
   }
  },
  {
   "cell_type": "code",
   "execution_count": null,
   "outputs": [],
   "source": [
    "df = pd.DataFrame(columns=post_list[0].keys(), index=range(len(post_list)), data=post_list)\n",
    "path = FOLDER_PATH + FANPAGE_ID + '2' + '.csv'\n",
    "df.to_csv(path, index=False)"
   ],
   "metadata": {
    "collapsed": false
   }
  },
  {
   "cell_type": "code",
   "execution_count": 3,
   "outputs": [
    {
     "name": "stdout",
     "output_type": "stream",
     "text": [
      "<class 'pandas.core.frame.DataFrame'>\n",
      "RangeIndex: 338 entries, 0 to 337\n",
      "Data columns (total 52 columns):\n",
      " #   Column                         Non-Null Count  Dtype  \n",
      "---  ------                         --------------  -----  \n",
      " 0   original_request_url           338 non-null    object \n",
      " 1   post_url                       338 non-null    object \n",
      " 2   post_id                        338 non-null    object \n",
      " 3   text                           338 non-null    object \n",
      " 4   post_text                      323 non-null    object \n",
      " 5   shared_text                    98 non-null     object \n",
      " 6   original_text                  1 non-null      object \n",
      " 7   time                           338 non-null    object \n",
      " 8   timestamp                      333 non-null    float64\n",
      " 9   image                          134 non-null    object \n",
      " 10  image_lowquality               338 non-null    object \n",
      " 11  images                         338 non-null    object \n",
      " 12  images_description             338 non-null    object \n",
      " 13  images_lowquality              338 non-null    object \n",
      " 14  images_lowquality_description  338 non-null    object \n",
      " 15  video                          133 non-null    object \n",
      " 16  video_duration_seconds         0 non-null      float64\n",
      " 17  video_height                   0 non-null      float64\n",
      " 18  video_id                       133 non-null    float64\n",
      " 19  video_quality                  0 non-null      float64\n",
      " 20  video_size_MB                  0 non-null      float64\n",
      " 21  video_thumbnail                129 non-null    object \n",
      " 22  video_watches                  0 non-null      float64\n",
      " 23  video_width                    0 non-null      float64\n",
      " 24  likes                          338 non-null    int64  \n",
      " 25  comments                       336 non-null    float64\n",
      " 26  shares                         338 non-null    int64  \n",
      " 27  link                           312 non-null    object \n",
      " 28  links                          338 non-null    object \n",
      " 29  user_id                        336 non-null    float64\n",
      " 30  username                       338 non-null    object \n",
      " 31  user_url                       338 non-null    object \n",
      " 32  is_live                        338 non-null    bool   \n",
      " 33  factcheck                      0 non-null      float64\n",
      " 34  shared_post_id                 2 non-null      float64\n",
      " 35  shared_time                    2 non-null      object \n",
      " 36  shared_user_id                 2 non-null      float64\n",
      " 37  shared_username                2 non-null      object \n",
      " 38  shared_post_url                2 non-null      object \n",
      " 39  available                      338 non-null    bool   \n",
      " 40  comments_full                  338 non-null    object \n",
      " 41  reactors                       338 non-null    object \n",
      " 42  w3_fb_url                      323 non-null    object \n",
      " 43  reactions                      338 non-null    object \n",
      " 44  reaction_count                 338 non-null    int64  \n",
      " 45  with                           21 non-null     object \n",
      " 46  page_id                        336 non-null    float64\n",
      " 47  sharers                        0 non-null      float64\n",
      " 48  image_id                       118 non-null    float64\n",
      " 49  image_ids                      338 non-null    object \n",
      " 50  was_live                       336 non-null    object \n",
      " 51  fetched_time                   338 non-null    object \n",
      "dtypes: bool(2), float64(16), int64(3), object(31)\n",
      "memory usage: 132.8+ KB\n"
     ]
    }
   ],
   "source": [
    "df = pd.read_csv('Data/NASA2.csv')\n",
    "df.info()"
   ],
   "metadata": {
    "collapsed": false,
    "ExecuteTime": {
     "end_time": "2023-11-28T04:29:48.015784Z",
     "start_time": "2023-11-28T04:29:47.902456100Z"
    }
   }
  }
 ],
 "metadata": {
  "kernelspec": {
   "display_name": "Python 3",
   "language": "python",
   "name": "python3"
  },
  "language_info": {
   "codemirror_mode": {
    "name": "ipython",
    "version": 2
   },
   "file_extension": ".py",
   "mimetype": "text/x-python",
   "name": "python",
   "nbconvert_exporter": "python",
   "pygments_lexer": "ipython2",
   "version": "2.7.6"
  }
 },
 "nbformat": 4,
 "nbformat_minor": 0
}
