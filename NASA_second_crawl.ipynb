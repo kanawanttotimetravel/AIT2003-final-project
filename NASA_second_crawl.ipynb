{
 "cells": [
  {
   "cell_type": "code",
   "execution_count": null,
   "outputs": [],
   "source": [
    "import numpy as np\n",
    "import pandas as pd\n",
    "from facebook_scraper import get_posts\n",
    "import time\n",
    "import json\n"
   ],
   "metadata": {
    "collapsed": false
   }
  },
  {
   "cell_type": "code",
   "execution_count": null,
   "metadata": {
    "collapsed": true
   },
   "outputs": [],
   "source": [
    "FANPAGE_ID = 'NASA'\n",
    "FOLDER_PATH = 'Data/'\n",
    "COOKIE_PATH = \"./second_cookies.txt\"\n",
    "\n",
    "PAGES_NUMBER = 50\n",
    "post_url_list = []\n",
    "post_list = []"
   ]
  },
  {
   "cell_type": "code",
   "execution_count": null,
   "outputs": [],
   "source": [
    "post_gen = get_posts(account=FANPAGE_ID,\n",
    "                     options={\"comments\": False, \"reactions\": False, \"allow_extra_requests\": False},\n",
    "                     extra_info=False, pages=PAGES_NUMBER, cookies=COOKIE_PATH)\n",
    "for post in post_gen:\n",
    "    post_url_list.append(post['post_url'])"
   ],
   "metadata": {
    "collapsed": false
   }
  },
  {
   "cell_type": "code",
   "execution_count": null,
   "outputs": [],
   "source": [
    "len(post_url_list)"
   ],
   "metadata": {
    "collapsed": false
   }
  },
  {
   "cell_type": "code",
   "execution_count": null,
   "outputs": [],
   "source": [
    "for post_url in post_url_list:\n",
    "    post = next(get_posts(post_urls=[post_url],\n",
    "                          options={\"comments\": True, \"reactions\": True, \"allow_extra_requests\": True},\n",
    "                          cookies=COOKIE_PATH))\n",
    "    post_list.append(post)\n",
    "    time.sleep(20)"
   ],
   "metadata": {
    "collapsed": false
   }
  },
  {
   "cell_type": "code",
   "execution_count": null,
   "outputs": [],
   "source": [
    "len(post_list)"
   ],
   "metadata": {
    "collapsed": false
   }
  },
  {
   "cell_type": "code",
   "execution_count": null,
   "outputs": [],
   "source": [
    "df = pd.DataFrame(columns=post_list[0].keys(), index=range(len(post_list)), data=post_list)\n",
    "df.to_csv('Data/NASA2.csv', index=False)"
   ],
   "metadata": {
    "collapsed": false
   }
  }
 ],
 "metadata": {
  "kernelspec": {
   "display_name": "Python 3",
   "language": "python",
   "name": "python3"
  },
  "language_info": {
   "codemirror_mode": {
    "name": "ipython",
    "version": 2
   },
   "file_extension": ".py",
   "mimetype": "text/x-python",
   "name": "python",
   "nbconvert_exporter": "python",
   "pygments_lexer": "ipython2",
   "version": "2.7.6"
  }
 },
 "nbformat": 4,
 "nbformat_minor": 0
}
