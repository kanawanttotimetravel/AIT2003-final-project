{
 "cells": [
  {
   "cell_type": "code",
   "execution_count": 16,
   "metadata": {
    "collapsed": true,
    "ExecuteTime": {
     "end_time": "2023-11-28T02:51:41.710163100Z",
     "start_time": "2023-11-28T02:51:41.687447500Z"
    }
   },
   "outputs": [],
   "source": [
    "import numpy as np\n",
    "import pandas as pd"
   ]
  },
  {
   "cell_type": "code",
   "execution_count": 17,
   "outputs": [],
   "source": [
    "NASA_df = pd.read_csv('Data/NASA.csv')"
   ],
   "metadata": {
    "collapsed": false,
    "ExecuteTime": {
     "end_time": "2023-11-28T02:51:41.885055800Z",
     "start_time": "2023-11-28T02:51:41.711450200Z"
    }
   }
  },
  {
   "cell_type": "code",
   "execution_count": 18,
   "outputs": [
    {
     "name": "stdout",
     "output_type": "stream",
     "text": [
      "<class 'pandas.core.frame.DataFrame'>\n",
      "RangeIndex: 199 entries, 0 to 198\n",
      "Data columns (total 51 columns):\n",
      " #   Column                         Non-Null Count  Dtype  \n",
      "---  ------                         --------------  -----  \n",
      " 0   post_id                        199 non-null    int64  \n",
      " 1   text                           197 non-null    object \n",
      " 2   post_text                      189 non-null    object \n",
      " 3   shared_text                    42 non-null     object \n",
      " 4   original_text                  0 non-null      float64\n",
      " 5   time                           199 non-null    object \n",
      " 6   timestamp                      199 non-null    int64  \n",
      " 7   image                          84 non-null     object \n",
      " 8   image_lowquality               199 non-null    object \n",
      " 9   images                         199 non-null    object \n",
      " 10  images_description             199 non-null    object \n",
      " 11  images_lowquality              199 non-null    object \n",
      " 12  images_lowquality_description  199 non-null    object \n",
      " 13  video                          76 non-null     object \n",
      " 14  video_duration_seconds         0 non-null      float64\n",
      " 15  video_height                   0 non-null      float64\n",
      " 16  video_id                       76 non-null     float64\n",
      " 17  video_quality                  0 non-null      float64\n",
      " 18  video_size_MB                  0 non-null      float64\n",
      " 19  video_thumbnail                76 non-null     object \n",
      " 20  video_watches                  0 non-null      float64\n",
      " 21  video_width                    0 non-null      float64\n",
      " 22  likes                          116 non-null    float64\n",
      " 23  comments                       199 non-null    int64  \n",
      " 24  shares                         199 non-null    int64  \n",
      " 25  post_url                       199 non-null    object \n",
      " 26  link                           169 non-null    object \n",
      " 27  links                          199 non-null    object \n",
      " 28  user_id                        199 non-null    int64  \n",
      " 29  username                       199 non-null    object \n",
      " 30  user_url                       199 non-null    object \n",
      " 31  is_live                        199 non-null    bool   \n",
      " 32  factcheck                      0 non-null      float64\n",
      " 33  shared_post_id                 4 non-null      float64\n",
      " 34  shared_time                    4 non-null      object \n",
      " 35  shared_user_id                 4 non-null      float64\n",
      " 36  shared_username                4 non-null      object \n",
      " 37  shared_post_url                4 non-null      object \n",
      " 38  available                      199 non-null    bool   \n",
      " 39  comments_full                  199 non-null    object \n",
      " 40  reactors                       83 non-null     object \n",
      " 41  w3_fb_url                      83 non-null     object \n",
      " 42  reactions                      83 non-null     object \n",
      " 43  reaction_count                 199 non-null    int64  \n",
      " 44  with                           5 non-null      object \n",
      " 45  page_id                        199 non-null    int64  \n",
      " 46  sharers                        0 non-null      float64\n",
      " 47  image_id                       80 non-null     float64\n",
      " 48  image_ids                      199 non-null    object \n",
      " 49  was_live                       199 non-null    bool   \n",
      " 50  fetched_time                   83 non-null     object \n",
      "dtypes: bool(3), float64(14), int64(7), object(27)\n",
      "memory usage: 75.3+ KB\n"
     ]
    }
   ],
   "source": [
    "NASA_df.info()"
   ],
   "metadata": {
    "collapsed": false,
    "ExecuteTime": {
     "end_time": "2023-11-28T02:51:41.948121800Z",
     "start_time": "2023-11-28T02:51:41.885055800Z"
    }
   }
  },
  {
   "cell_type": "code",
   "execution_count": 19,
   "outputs": [],
   "source": [
    "NASA_df2 = pd.read_csv(\"Data/NASA2.csv\")"
   ],
   "metadata": {
    "collapsed": false,
    "ExecuteTime": {
     "end_time": "2023-11-28T02:51:42.049990400Z",
     "start_time": "2023-11-28T02:51:41.916313800Z"
    }
   }
  },
  {
   "cell_type": "code",
   "execution_count": 20,
   "outputs": [
    {
     "name": "stdout",
     "output_type": "stream",
     "text": [
      "<class 'pandas.core.frame.DataFrame'>\n",
      "RangeIndex: 338 entries, 0 to 337\n",
      "Data columns (total 52 columns):\n",
      " #   Column                         Non-Null Count  Dtype  \n",
      "---  ------                         --------------  -----  \n",
      " 0   original_request_url           338 non-null    object \n",
      " 1   post_url                       338 non-null    object \n",
      " 2   post_id                        338 non-null    object \n",
      " 3   text                           338 non-null    object \n",
      " 4   post_text                      323 non-null    object \n",
      " 5   shared_text                    98 non-null     object \n",
      " 6   original_text                  1 non-null      object \n",
      " 7   time                           338 non-null    object \n",
      " 8   timestamp                      333 non-null    float64\n",
      " 9   image                          134 non-null    object \n",
      " 10  image_lowquality               338 non-null    object \n",
      " 11  images                         338 non-null    object \n",
      " 12  images_description             338 non-null    object \n",
      " 13  images_lowquality              338 non-null    object \n",
      " 14  images_lowquality_description  338 non-null    object \n",
      " 15  video                          133 non-null    object \n",
      " 16  video_duration_seconds         0 non-null      float64\n",
      " 17  video_height                   0 non-null      float64\n",
      " 18  video_id                       133 non-null    float64\n",
      " 19  video_quality                  0 non-null      float64\n",
      " 20  video_size_MB                  0 non-null      float64\n",
      " 21  video_thumbnail                129 non-null    object \n",
      " 22  video_watches                  0 non-null      float64\n",
      " 23  video_width                    0 non-null      float64\n",
      " 24  likes                          338 non-null    int64  \n",
      " 25  comments                       336 non-null    float64\n",
      " 26  shares                         338 non-null    int64  \n",
      " 27  link                           312 non-null    object \n",
      " 28  links                          338 non-null    object \n",
      " 29  user_id                        336 non-null    float64\n",
      " 30  username                       338 non-null    object \n",
      " 31  user_url                       338 non-null    object \n",
      " 32  is_live                        338 non-null    bool   \n",
      " 33  factcheck                      0 non-null      float64\n",
      " 34  shared_post_id                 2 non-null      float64\n",
      " 35  shared_time                    2 non-null      object \n",
      " 36  shared_user_id                 2 non-null      float64\n",
      " 37  shared_username                2 non-null      object \n",
      " 38  shared_post_url                2 non-null      object \n",
      " 39  available                      338 non-null    bool   \n",
      " 40  comments_full                  338 non-null    object \n",
      " 41  reactors                       338 non-null    object \n",
      " 42  w3_fb_url                      323 non-null    object \n",
      " 43  reactions                      338 non-null    object \n",
      " 44  reaction_count                 338 non-null    int64  \n",
      " 45  with                           21 non-null     object \n",
      " 46  page_id                        336 non-null    float64\n",
      " 47  sharers                        0 non-null      float64\n",
      " 48  image_id                       118 non-null    float64\n",
      " 49  image_ids                      338 non-null    object \n",
      " 50  was_live                       336 non-null    object \n",
      " 51  fetched_time                   338 non-null    object \n",
      "dtypes: bool(2), float64(16), int64(3), object(31)\n",
      "memory usage: 132.8+ KB\n"
     ]
    }
   ],
   "source": [
    "NASA_df2.info()"
   ],
   "metadata": {
    "collapsed": false,
    "ExecuteTime": {
     "end_time": "2023-11-28T02:51:42.062557800Z",
     "start_time": "2023-11-28T02:51:42.040097300Z"
    }
   }
  },
  {
   "cell_type": "code",
   "execution_count": 21,
   "outputs": [],
   "source": [
    "useful = ['text', 'time', 'likes', 'comments', 'shares', 'link', 'links', 'username', 'comments_full', 'reactions', 'reaction_count']\n",
    "NASA_final_df = NASA_df2[useful]"
   ],
   "metadata": {
    "collapsed": false,
    "ExecuteTime": {
     "end_time": "2023-11-28T02:51:42.105975400Z",
     "start_time": "2023-11-28T02:51:42.062557800Z"
    }
   }
  },
  {
   "cell_type": "code",
   "execution_count": 28,
   "outputs": [
    {
     "data": {
      "text/plain": "0      [{'comment_id': '660369116281981', 'comment_ur...\n1      [{'comment_id': '881863933349145', 'comment_ur...\n2      [{'comment_id': '1067008137665970', 'comment_u...\n3      [{'comment_id': '1446991415854582', 'comment_u...\n4      [{'comment_id': '693678946058649', 'comment_ur...\n                             ...                        \n333                                                 None\n334    [{'comment_id': '987548015608528', 'comment_ur...\n335                                                 None\n336                                                 None\n337                                                 None\nName: comments_full, Length: 338, dtype: object"
     },
     "execution_count": 28,
     "metadata": {},
     "output_type": "execute_result"
    }
   ],
   "source": [
    "NASA_final_df['comments_full'] = NASA_final_df['comments_full'].replace('[]', None)\n",
    "NASA_final_df['comments_full']"
   ],
   "metadata": {
    "collapsed": false,
    "ExecuteTime": {
     "end_time": "2023-11-28T02:52:26.758132800Z",
     "start_time": "2023-11-28T02:52:26.739793400Z"
    }
   }
  },
  {
   "cell_type": "code",
   "execution_count": 23,
   "outputs": [],
   "source": [
    "NASA_final_df = NASA_final_df.fillna(NASA_df)"
   ],
   "metadata": {
    "collapsed": false,
    "ExecuteTime": {
     "end_time": "2023-11-28T02:51:42.124388500Z",
     "start_time": "2023-11-28T02:51:42.095431500Z"
    }
   }
  },
  {
   "cell_type": "code",
   "execution_count": 24,
   "outputs": [
    {
     "name": "stdout",
     "output_type": "stream",
     "text": [
      "<class 'pandas.core.series.Series'>\n",
      "RangeIndex: 338 entries, 0 to 337\n",
      "Series name: comments_full\n",
      "Non-Null Count  Dtype \n",
      "--------------  ----- \n",
      "338 non-null    object\n",
      "dtypes: object(1)\n",
      "memory usage: 2.8+ KB\n"
     ]
    }
   ],
   "source": [
    "NASA_final_df['comments_full'] = NASA_final_df['comments_full'].fillna('[]');\n",
    "NASA_final_df['comments_full'].info()"
   ],
   "metadata": {
    "collapsed": false,
    "ExecuteTime": {
     "end_time": "2023-11-28T02:51:42.124388500Z",
     "start_time": "2023-11-28T02:51:42.113167200Z"
    }
   }
  },
  {
   "cell_type": "code",
   "execution_count": 25,
   "outputs": [
    {
     "data": {
      "text/plain": "                                                  text                 time  \\\n0    Our new sky-mapping space telescope SPHEREx ta...  2023-11-25 22:04:03   \n1    There’s space for the whole family on NASA+!\\n...  2023-11-24 22:31:58   \n2    Getting ready for a long drive? Looking for so...  2023-11-23 04:36:07   \n3    Earlier this year, our Ingenuity helicopter co...  2023-11-23 02:18:03   \n4    #HappyThanksgiving from space!\\n\\nOrbiting our...  2023-11-22 23:27:18   \n..                                                 ...                  ...   \n313  Wonder Twin powers activate! Infrared data fro...  2023-05-27 04:02:01   \n320  We and Rocket Lab are targeting 12 a.m. EDT Th...  2023-05-25 04:38:19   \n322  Victor Glover: captain, pilot, astronaut.\\n\\nG...  2023-05-24 22:38:29   \n329  Insights on InSight: Talk to experts from the ...  2023-05-19 08:54:33   \n334  THURS, 25 MAY\\nLaunch of Cyclone-Tracking TROP...  2023-05-17 05:49:58   \n\n     likes  comments  shares  \\\n0      637      92.0     160   \n1      817     148.0     169   \n2     3532    1251.0     296   \n3     1219     119.0     168   \n4     2091     445.0     484   \n..     ...       ...     ...   \n313   2239     144.0     184   \n320   1441      89.0      80   \n322   1345     109.0     147   \n329    704      70.0       0   \n334    564      88.0       0   \n\n                                                  link  \\\n0    http://nasa.gov/subscribe?fbclid=IwAR3BuT7EGef...   \n1    https://go.nasa.gov/3QTPPN5?fbclid=IwAR2RIEb_q...   \n2    https://bit.ly/3MJRZNM?fbclid=IwAR3vtU0By8iCtI...   \n3    https://go.nasa.gov/47mshY0?fbclid=IwAR0gQNRx7...   \n4    https://plus.nasa.gov/video/nasa-explorers-cha...   \n..                                                 ...   \n313  https://go.nasa.gov/3IK9Rq1?fbclid=IwAR25mFNS6...   \n320  https://go.nasa.gov/424tYpt?fbclid=IwAR3ajFCKq...   \n322  https://bit.ly/3qcdNsV?fbclid=IwAR1FTuwlO5yLwJ...   \n329  https://did.li/V1gIw?fbclid=IwAR0fGL-Xj-Powf0h...   \n334  https://media4.giphy.com/media/Q7ozWVYCR0nyW2r...   \n\n                                                 links  \\\n0    [{'link': '/hashtag/artemis?refid=52&__tn__=%2...   \n1    [{'link': '/hashtag/blackholefriday?refid=52&_...   \n2    [{'link': 'https://lm.facebook.com/l.php?u=htt...   \n3    [{'link': '/NASAPersevere?eav=AfZplTRfGjp7VlLa...   \n4    [{'link': '/hashtag/happythanksgiving?refid=52...   \n..                                                 ...   \n313  [{'link': '/NASAWebb?eav=AfYYAq8XP8qmScqg4enmc...   \n320  [{'link': '/RocketLabUSA?eav=AfZSZYxMtZNpVk_WN...   \n322  [{'link': '/hashtag/crew1?__tn__=%2As-R&paipv=...   \n329  [{'link': '/events/feed/watch/?feed_data%5Brep...   \n334  [{'link': '/events/feed/watch/?feed_data%5Brep...   \n\n                                              username  \\\n0    NASA - National Aeronautics and Space Administ...   \n1    NASA - National Aeronautics and Space Administ...   \n2    NASA - National Aeronautics and Space Administ...   \n3    NASA - National Aeronautics and Space Administ...   \n4    NASA - National Aeronautics and Space Administ...   \n..                                                 ...   \n313  NASA - National Aeronautics and Space Administ...   \n320  NASA - National Aeronautics and Space Administ...   \n322  NASA - National Aeronautics and Space Administ...   \n329  NASA - National Aeronautics and Space Administ...   \n334  NASA - National Aeronautics and Space Administ...   \n\n                                         comments_full  \\\n0    [{'comment_id': '660369116281981', 'comment_ur...   \n1    [{'comment_id': '881863933349145', 'comment_ur...   \n2    [{'comment_id': '1067008137665970', 'comment_u...   \n3    [{'comment_id': '1446991415854582', 'comment_u...   \n4    [{'comment_id': '693678946058649', 'comment_ur...   \n..                                                 ...   \n313  [{'comment_id': '815703129567603', 'comment_ur...   \n320  [{'comment_id': '198548273076547', 'comment_ur...   \n322  [{'comment_id': '277178057995584', 'comment_ur...   \n329  [{'comment_id': '709625077519574', 'comment_ur...   \n334  [{'comment_id': '987548015608528', 'comment_ur...   \n\n                                             reactions  reaction_count  \n0    {'like': 637, 'love': 113, 'haha': 5, 'wow': 2...             764  \n1    {'like': 817, 'love': 235, 'haha': 10, 'wow': ...            1082  \n2    {'like': 3532, 'love': 690, 'haha': 365, 'wow'...            4655  \n3    {'like': 1219, 'love': 270, 'haha': 9, 'wow': ...            1551  \n4    {'like': 2091, 'love': 739, 'haha': 54, 'wow':...            2950  \n..                                                 ...             ...  \n313  {'like': 2239, 'love': 352, 'haha': 12, 'wow':...            2675  \n320  {'like': 1441, 'love': 136, 'haha': 31, 'wow':...            1626  \n322  {'like': 1345, 'love': 246, 'haha': 4, 'wow': ...            1621  \n329  {'like': 704, 'love': 118, 'haha': 7, 'wow': 5...             847  \n334  {'like': 564, 'love': 67, 'haha': 4, 'wow': 5,...             645  \n\n[125 rows x 11 columns]",
      "text/html": "<div>\n<style scoped>\n    .dataframe tbody tr th:only-of-type {\n        vertical-align: middle;\n    }\n\n    .dataframe tbody tr th {\n        vertical-align: top;\n    }\n\n    .dataframe thead th {\n        text-align: right;\n    }\n</style>\n<table border=\"1\" class=\"dataframe\">\n  <thead>\n    <tr style=\"text-align: right;\">\n      <th></th>\n      <th>text</th>\n      <th>time</th>\n      <th>likes</th>\n      <th>comments</th>\n      <th>shares</th>\n      <th>link</th>\n      <th>links</th>\n      <th>username</th>\n      <th>comments_full</th>\n      <th>reactions</th>\n      <th>reaction_count</th>\n    </tr>\n  </thead>\n  <tbody>\n    <tr>\n      <th>0</th>\n      <td>Our new sky-mapping space telescope SPHEREx ta...</td>\n      <td>2023-11-25 22:04:03</td>\n      <td>637</td>\n      <td>92.0</td>\n      <td>160</td>\n      <td>http://nasa.gov/subscribe?fbclid=IwAR3BuT7EGef...</td>\n      <td>[{'link': '/hashtag/artemis?refid=52&amp;__tn__=%2...</td>\n      <td>NASA - National Aeronautics and Space Administ...</td>\n      <td>[{'comment_id': '660369116281981', 'comment_ur...</td>\n      <td>{'like': 637, 'love': 113, 'haha': 5, 'wow': 2...</td>\n      <td>764</td>\n    </tr>\n    <tr>\n      <th>1</th>\n      <td>There’s space for the whole family on NASA+!\\n...</td>\n      <td>2023-11-24 22:31:58</td>\n      <td>817</td>\n      <td>148.0</td>\n      <td>169</td>\n      <td>https://go.nasa.gov/3QTPPN5?fbclid=IwAR2RIEb_q...</td>\n      <td>[{'link': '/hashtag/blackholefriday?refid=52&amp;_...</td>\n      <td>NASA - National Aeronautics and Space Administ...</td>\n      <td>[{'comment_id': '881863933349145', 'comment_ur...</td>\n      <td>{'like': 817, 'love': 235, 'haha': 10, 'wow': ...</td>\n      <td>1082</td>\n    </tr>\n    <tr>\n      <th>2</th>\n      <td>Getting ready for a long drive? Looking for so...</td>\n      <td>2023-11-23 04:36:07</td>\n      <td>3532</td>\n      <td>1251.0</td>\n      <td>296</td>\n      <td>https://bit.ly/3MJRZNM?fbclid=IwAR3vtU0By8iCtI...</td>\n      <td>[{'link': 'https://lm.facebook.com/l.php?u=htt...</td>\n      <td>NASA - National Aeronautics and Space Administ...</td>\n      <td>[{'comment_id': '1067008137665970', 'comment_u...</td>\n      <td>{'like': 3532, 'love': 690, 'haha': 365, 'wow'...</td>\n      <td>4655</td>\n    </tr>\n    <tr>\n      <th>3</th>\n      <td>Earlier this year, our Ingenuity helicopter co...</td>\n      <td>2023-11-23 02:18:03</td>\n      <td>1219</td>\n      <td>119.0</td>\n      <td>168</td>\n      <td>https://go.nasa.gov/47mshY0?fbclid=IwAR0gQNRx7...</td>\n      <td>[{'link': '/NASAPersevere?eav=AfZplTRfGjp7VlLa...</td>\n      <td>NASA - National Aeronautics and Space Administ...</td>\n      <td>[{'comment_id': '1446991415854582', 'comment_u...</td>\n      <td>{'like': 1219, 'love': 270, 'haha': 9, 'wow': ...</td>\n      <td>1551</td>\n    </tr>\n    <tr>\n      <th>4</th>\n      <td>#HappyThanksgiving from space!\\n\\nOrbiting our...</td>\n      <td>2023-11-22 23:27:18</td>\n      <td>2091</td>\n      <td>445.0</td>\n      <td>484</td>\n      <td>https://plus.nasa.gov/video/nasa-explorers-cha...</td>\n      <td>[{'link': '/hashtag/happythanksgiving?refid=52...</td>\n      <td>NASA - National Aeronautics and Space Administ...</td>\n      <td>[{'comment_id': '693678946058649', 'comment_ur...</td>\n      <td>{'like': 2091, 'love': 739, 'haha': 54, 'wow':...</td>\n      <td>2950</td>\n    </tr>\n    <tr>\n      <th>...</th>\n      <td>...</td>\n      <td>...</td>\n      <td>...</td>\n      <td>...</td>\n      <td>...</td>\n      <td>...</td>\n      <td>...</td>\n      <td>...</td>\n      <td>...</td>\n      <td>...</td>\n      <td>...</td>\n    </tr>\n    <tr>\n      <th>313</th>\n      <td>Wonder Twin powers activate! Infrared data fro...</td>\n      <td>2023-05-27 04:02:01</td>\n      <td>2239</td>\n      <td>144.0</td>\n      <td>184</td>\n      <td>https://go.nasa.gov/3IK9Rq1?fbclid=IwAR25mFNS6...</td>\n      <td>[{'link': '/NASAWebb?eav=AfYYAq8XP8qmScqg4enmc...</td>\n      <td>NASA - National Aeronautics and Space Administ...</td>\n      <td>[{'comment_id': '815703129567603', 'comment_ur...</td>\n      <td>{'like': 2239, 'love': 352, 'haha': 12, 'wow':...</td>\n      <td>2675</td>\n    </tr>\n    <tr>\n      <th>320</th>\n      <td>We and Rocket Lab are targeting 12 a.m. EDT Th...</td>\n      <td>2023-05-25 04:38:19</td>\n      <td>1441</td>\n      <td>89.0</td>\n      <td>80</td>\n      <td>https://go.nasa.gov/424tYpt?fbclid=IwAR3ajFCKq...</td>\n      <td>[{'link': '/RocketLabUSA?eav=AfZSZYxMtZNpVk_WN...</td>\n      <td>NASA - National Aeronautics and Space Administ...</td>\n      <td>[{'comment_id': '198548273076547', 'comment_ur...</td>\n      <td>{'like': 1441, 'love': 136, 'haha': 31, 'wow':...</td>\n      <td>1626</td>\n    </tr>\n    <tr>\n      <th>322</th>\n      <td>Victor Glover: captain, pilot, astronaut.\\n\\nG...</td>\n      <td>2023-05-24 22:38:29</td>\n      <td>1345</td>\n      <td>109.0</td>\n      <td>147</td>\n      <td>https://bit.ly/3qcdNsV?fbclid=IwAR1FTuwlO5yLwJ...</td>\n      <td>[{'link': '/hashtag/crew1?__tn__=%2As-R&amp;paipv=...</td>\n      <td>NASA - National Aeronautics and Space Administ...</td>\n      <td>[{'comment_id': '277178057995584', 'comment_ur...</td>\n      <td>{'like': 1345, 'love': 246, 'haha': 4, 'wow': ...</td>\n      <td>1621</td>\n    </tr>\n    <tr>\n      <th>329</th>\n      <td>Insights on InSight: Talk to experts from the ...</td>\n      <td>2023-05-19 08:54:33</td>\n      <td>704</td>\n      <td>70.0</td>\n      <td>0</td>\n      <td>https://did.li/V1gIw?fbclid=IwAR0fGL-Xj-Powf0h...</td>\n      <td>[{'link': '/events/feed/watch/?feed_data%5Brep...</td>\n      <td>NASA - National Aeronautics and Space Administ...</td>\n      <td>[{'comment_id': '709625077519574', 'comment_ur...</td>\n      <td>{'like': 704, 'love': 118, 'haha': 7, 'wow': 5...</td>\n      <td>847</td>\n    </tr>\n    <tr>\n      <th>334</th>\n      <td>THURS, 25 MAY\\nLaunch of Cyclone-Tracking TROP...</td>\n      <td>2023-05-17 05:49:58</td>\n      <td>564</td>\n      <td>88.0</td>\n      <td>0</td>\n      <td>https://media4.giphy.com/media/Q7ozWVYCR0nyW2r...</td>\n      <td>[{'link': '/events/feed/watch/?feed_data%5Brep...</td>\n      <td>NASA - National Aeronautics and Space Administ...</td>\n      <td>[{'comment_id': '987548015608528', 'comment_ur...</td>\n      <td>{'like': 564, 'love': 67, 'haha': 4, 'wow': 5,...</td>\n      <td>645</td>\n    </tr>\n  </tbody>\n</table>\n<p>125 rows × 11 columns</p>\n</div>"
     },
     "execution_count": 25,
     "metadata": {},
     "output_type": "execute_result"
    }
   ],
   "source": [
    "NASA_final_df[NASA_final_df['comments_full'].apply(lambda x : (len(x) > 2))]"
   ],
   "metadata": {
    "collapsed": false,
    "ExecuteTime": {
     "end_time": "2023-11-28T02:51:42.233434Z",
     "start_time": "2023-11-28T02:51:42.125930300Z"
    }
   }
  },
  {
   "cell_type": "code",
   "execution_count": 26,
   "outputs": [
    {
     "data": {
      "text/plain": "text              0\ntime              0\nlikes             0\ncomments          2\nshares            0\nlink              9\nlinks             0\nusername          0\ncomments_full     0\nreactions         0\nreaction_count    0\ndtype: int64"
     },
     "execution_count": 26,
     "metadata": {},
     "output_type": "execute_result"
    }
   ],
   "source": [
    "NASA_final_df.isnull().sum()"
   ],
   "metadata": {
    "collapsed": false,
    "ExecuteTime": {
     "end_time": "2023-11-28T02:51:42.233941300Z",
     "start_time": "2023-11-28T02:51:42.172082800Z"
    }
   }
  },
  {
   "cell_type": "code",
   "execution_count": 27,
   "outputs": [
    {
     "data": {
      "text/plain": "0"
     },
     "execution_count": 27,
     "metadata": {},
     "output_type": "execute_result"
    }
   ],
   "source": [
    "NASA_final_df.duplicated().sum()\n"
   ],
   "metadata": {
    "collapsed": false,
    "ExecuteTime": {
     "end_time": "2023-11-28T02:51:42.244908700Z",
     "start_time": "2023-11-28T02:51:42.185952Z"
    }
   }
  }
 ],
 "metadata": {
  "kernelspec": {
   "display_name": "Python 3",
   "language": "python",
   "name": "python3"
  },
  "language_info": {
   "codemirror_mode": {
    "name": "ipython",
    "version": 2
   },
   "file_extension": ".py",
   "mimetype": "text/x-python",
   "name": "python",
   "nbconvert_exporter": "python",
   "pygments_lexer": "ipython2",
   "version": "2.7.6"
  }
 },
 "nbformat": 4,
 "nbformat_minor": 0
}
