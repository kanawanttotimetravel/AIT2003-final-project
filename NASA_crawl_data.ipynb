{
 "cells": [
  {
   "cell_type": "code",
   "execution_count": null,
   "metadata": {
    "collapsed": true
   },
   "outputs": [],
   "source": [
    "# %pip install numpy\n",
    "# %pip install pandas\n",
    "# %pip install facebook-scraper"
   ]
  },
  {
   "cell_type": "code",
   "execution_count": null,
   "outputs": [],
   "source": [
    "import numpy as np\n",
    "import pandas as pd\n",
    "from facebook_scraper import get_posts\n",
    "import time"
   ],
   "metadata": {
    "collapsed": false
   }
  },
  {
   "cell_type": "code",
   "execution_count": null,
   "outputs": [],
   "source": [
    "FANPAGE_ID = 'NASA'\n",
    "FOLDER_PATH = 'Data/'\n",
    "COOKIE_PATH = \"./cookies.txt\"\n",
    "PAGES_NUMBER = 50"
   ],
   "metadata": {
    "collapsed": false
   }
  },
  {
   "cell_type": "code",
   "execution_count": null,
   "outputs": [],
   "source": [
    "post_list = []\n",
    "post_gen = get_posts(account=FANPAGE_ID,\n",
    "                     options={\"comments\": True, \"reactions\": True, \"allow_extra_requests\": True},\n",
    "                     extra_info=True, pages=PAGES_NUMBER, cookies=COOKIE_PATH)\n",
    "for post in post_gen:\n",
    "    post_list.append(post)\n",
    "    time.sleep(20)"
   ],
   "metadata": {
    "collapsed": false
   }
  },
  {
   "cell_type": "code",
   "execution_count": null,
   "outputs": [],
   "source": [
    "\n",
    "df = pd.DataFrame(columns=post_list[0].keys(), index=range(len(post_list)), data=post_list)\n",
    "path = FOLDER_PATH + FANPAGE_ID + '.csv'\n",
    "df.to_csv(path, index=False)\n"
   ],
   "metadata": {
    "collapsed": false
   }
  },
  {
   "cell_type": "code",
   "execution_count": 5,
   "outputs": [
    {
     "name": "stdout",
     "output_type": "stream",
     "text": [
      "<class 'pandas.core.frame.DataFrame'>\n",
      "RangeIndex: 199 entries, 0 to 198\n",
      "Data columns (total 51 columns):\n",
      " #   Column                         Non-Null Count  Dtype  \n",
      "---  ------                         --------------  -----  \n",
      " 0   post_id                        199 non-null    int64  \n",
      " 1   text                           197 non-null    object \n",
      " 2   post_text                      189 non-null    object \n",
      " 3   shared_text                    42 non-null     object \n",
      " 4   original_text                  0 non-null      float64\n",
      " 5   time                           199 non-null    object \n",
      " 6   timestamp                      199 non-null    int64  \n",
      " 7   image                          84 non-null     object \n",
      " 8   image_lowquality               199 non-null    object \n",
      " 9   images                         199 non-null    object \n",
      " 10  images_description             199 non-null    object \n",
      " 11  images_lowquality              199 non-null    object \n",
      " 12  images_lowquality_description  199 non-null    object \n",
      " 13  video                          76 non-null     object \n",
      " 14  video_duration_seconds         0 non-null      float64\n",
      " 15  video_height                   0 non-null      float64\n",
      " 16  video_id                       76 non-null     float64\n",
      " 17  video_quality                  0 non-null      float64\n",
      " 18  video_size_MB                  0 non-null      float64\n",
      " 19  video_thumbnail                76 non-null     object \n",
      " 20  video_watches                  0 non-null      float64\n",
      " 21  video_width                    0 non-null      float64\n",
      " 22  likes                          116 non-null    float64\n",
      " 23  comments                       199 non-null    int64  \n",
      " 24  shares                         199 non-null    int64  \n",
      " 25  post_url                       199 non-null    object \n",
      " 26  link                           169 non-null    object \n",
      " 27  links                          199 non-null    object \n",
      " 28  user_id                        199 non-null    int64  \n",
      " 29  username                       199 non-null    object \n",
      " 30  user_url                       199 non-null    object \n",
      " 31  is_live                        199 non-null    bool   \n",
      " 32  factcheck                      0 non-null      float64\n",
      " 33  shared_post_id                 4 non-null      float64\n",
      " 34  shared_time                    4 non-null      object \n",
      " 35  shared_user_id                 4 non-null      float64\n",
      " 36  shared_username                4 non-null      object \n",
      " 37  shared_post_url                4 non-null      object \n",
      " 38  available                      199 non-null    bool   \n",
      " 39  comments_full                  199 non-null    object \n",
      " 40  reactors                       83 non-null     object \n",
      " 41  w3_fb_url                      83 non-null     object \n",
      " 42  reactions                      83 non-null     object \n",
      " 43  reaction_count                 199 non-null    int64  \n",
      " 44  with                           5 non-null      object \n",
      " 45  page_id                        199 non-null    int64  \n",
      " 46  sharers                        0 non-null      float64\n",
      " 47  image_id                       80 non-null     float64\n",
      " 48  image_ids                      199 non-null    object \n",
      " 49  was_live                       199 non-null    bool   \n",
      " 50  fetched_time                   83 non-null     object \n",
      "dtypes: bool(3), float64(14), int64(7), object(27)\n",
      "memory usage: 75.3+ KB\n"
     ]
    }
   ],
   "source": [
    "df = pd.read_csv('Data/NASA.csv')\n",
    "df.info()"
   ],
   "metadata": {
    "collapsed": false,
    "ExecuteTime": {
     "end_time": "2023-11-28T04:28:28.932009700Z",
     "start_time": "2023-11-28T04:28:28.758870700Z"
    }
   }
  }
 ],
 "metadata": {
  "kernelspec": {
   "display_name": "Python 3",
   "language": "python",
   "name": "python3"
  },
  "language_info": {
   "codemirror_mode": {
    "name": "ipython",
    "version": 2
   },
   "file_extension": ".py",
   "mimetype": "text/x-python",
   "name": "python",
   "nbconvert_exporter": "python",
   "pygments_lexer": "ipython2",
   "version": "2.7.6"
  }
 },
 "nbformat": 4,
 "nbformat_minor": 0
}
