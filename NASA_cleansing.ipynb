{
 "cells": [
  {
   "cell_type": "code",
   "execution_count": 67,
   "metadata": {
    "collapsed": true,
    "ExecuteTime": {
     "end_time": "2023-11-28T05:57:50.841730300Z",
     "start_time": "2023-11-28T05:57:50.826590Z"
    }
   },
   "outputs": [],
   "source": [
    "import numpy as np\n",
    "import pandas as pd"
   ]
  },
  {
   "cell_type": "code",
   "execution_count": 68,
   "outputs": [],
   "source": [
    "NASA_df = pd.read_csv('Data/NASA.csv')"
   ],
   "metadata": {
    "collapsed": false,
    "ExecuteTime": {
     "end_time": "2023-11-28T05:57:50.990211Z",
     "start_time": "2023-11-28T05:57:50.834299700Z"
    }
   }
  },
  {
   "cell_type": "code",
   "execution_count": 69,
   "outputs": [
    {
     "name": "stdout",
     "output_type": "stream",
     "text": [
      "<class 'pandas.core.frame.DataFrame'>\n",
      "RangeIndex: 199 entries, 0 to 198\n",
      "Data columns (total 51 columns):\n",
      " #   Column                         Non-Null Count  Dtype  \n",
      "---  ------                         --------------  -----  \n",
      " 0   post_id                        199 non-null    int64  \n",
      " 1   text                           197 non-null    object \n",
      " 2   post_text                      189 non-null    object \n",
      " 3   shared_text                    42 non-null     object \n",
      " 4   original_text                  0 non-null      float64\n",
      " 5   time                           199 non-null    object \n",
      " 6   timestamp                      199 non-null    int64  \n",
      " 7   image                          84 non-null     object \n",
      " 8   image_lowquality               199 non-null    object \n",
      " 9   images                         199 non-null    object \n",
      " 10  images_description             199 non-null    object \n",
      " 11  images_lowquality              199 non-null    object \n",
      " 12  images_lowquality_description  199 non-null    object \n",
      " 13  video                          76 non-null     object \n",
      " 14  video_duration_seconds         0 non-null      float64\n",
      " 15  video_height                   0 non-null      float64\n",
      " 16  video_id                       76 non-null     float64\n",
      " 17  video_quality                  0 non-null      float64\n",
      " 18  video_size_MB                  0 non-null      float64\n",
      " 19  video_thumbnail                76 non-null     object \n",
      " 20  video_watches                  0 non-null      float64\n",
      " 21  video_width                    0 non-null      float64\n",
      " 22  likes                          116 non-null    float64\n",
      " 23  comments                       199 non-null    int64  \n",
      " 24  shares                         199 non-null    int64  \n",
      " 25  post_url                       199 non-null    object \n",
      " 26  link                           169 non-null    object \n",
      " 27  links                          199 non-null    object \n",
      " 28  user_id                        199 non-null    int64  \n",
      " 29  username                       199 non-null    object \n",
      " 30  user_url                       199 non-null    object \n",
      " 31  is_live                        199 non-null    bool   \n",
      " 32  factcheck                      0 non-null      float64\n",
      " 33  shared_post_id                 4 non-null      float64\n",
      " 34  shared_time                    4 non-null      object \n",
      " 35  shared_user_id                 4 non-null      float64\n",
      " 36  shared_username                4 non-null      object \n",
      " 37  shared_post_url                4 non-null      object \n",
      " 38  available                      199 non-null    bool   \n",
      " 39  comments_full                  199 non-null    object \n",
      " 40  reactors                       83 non-null     object \n",
      " 41  w3_fb_url                      83 non-null     object \n",
      " 42  reactions                      83 non-null     object \n",
      " 43  reaction_count                 199 non-null    int64  \n",
      " 44  with                           5 non-null      object \n",
      " 45  page_id                        199 non-null    int64  \n",
      " 46  sharers                        0 non-null      float64\n",
      " 47  image_id                       80 non-null     float64\n",
      " 48  image_ids                      199 non-null    object \n",
      " 49  was_live                       199 non-null    bool   \n",
      " 50  fetched_time                   83 non-null     object \n",
      "dtypes: bool(3), float64(14), int64(7), object(27)\n",
      "memory usage: 75.3+ KB\n"
     ]
    }
   ],
   "source": [
    "NASA_df.info()"
   ],
   "metadata": {
    "collapsed": false,
    "ExecuteTime": {
     "end_time": "2023-11-28T05:57:51.006258800Z",
     "start_time": "2023-11-28T05:57:50.990211Z"
    }
   }
  },
  {
   "cell_type": "code",
   "execution_count": 70,
   "outputs": [],
   "source": [
    "NASA_df2 = pd.read_csv(\"Data/NASA2.csv\")"
   ],
   "metadata": {
    "collapsed": false,
    "ExecuteTime": {
     "end_time": "2023-11-28T05:57:51.101935900Z",
     "start_time": "2023-11-28T05:57:51.009039Z"
    }
   }
  },
  {
   "cell_type": "code",
   "execution_count": 71,
   "outputs": [
    {
     "name": "stdout",
     "output_type": "stream",
     "text": [
      "<class 'pandas.core.frame.DataFrame'>\n",
      "RangeIndex: 338 entries, 0 to 337\n",
      "Data columns (total 52 columns):\n",
      " #   Column                         Non-Null Count  Dtype  \n",
      "---  ------                         --------------  -----  \n",
      " 0   original_request_url           338 non-null    object \n",
      " 1   post_url                       338 non-null    object \n",
      " 2   post_id                        338 non-null    object \n",
      " 3   text                           338 non-null    object \n",
      " 4   post_text                      323 non-null    object \n",
      " 5   shared_text                    98 non-null     object \n",
      " 6   original_text                  1 non-null      object \n",
      " 7   time                           338 non-null    object \n",
      " 8   timestamp                      333 non-null    float64\n",
      " 9   image                          134 non-null    object \n",
      " 10  image_lowquality               338 non-null    object \n",
      " 11  images                         338 non-null    object \n",
      " 12  images_description             338 non-null    object \n",
      " 13  images_lowquality              338 non-null    object \n",
      " 14  images_lowquality_description  338 non-null    object \n",
      " 15  video                          133 non-null    object \n",
      " 16  video_duration_seconds         0 non-null      float64\n",
      " 17  video_height                   0 non-null      float64\n",
      " 18  video_id                       133 non-null    float64\n",
      " 19  video_quality                  0 non-null      float64\n",
      " 20  video_size_MB                  0 non-null      float64\n",
      " 21  video_thumbnail                129 non-null    object \n",
      " 22  video_watches                  0 non-null      float64\n",
      " 23  video_width                    0 non-null      float64\n",
      " 24  likes                          338 non-null    int64  \n",
      " 25  comments                       336 non-null    float64\n",
      " 26  shares                         338 non-null    int64  \n",
      " 27  link                           312 non-null    object \n",
      " 28  links                          338 non-null    object \n",
      " 29  user_id                        336 non-null    float64\n",
      " 30  username                       338 non-null    object \n",
      " 31  user_url                       338 non-null    object \n",
      " 32  is_live                        338 non-null    bool   \n",
      " 33  factcheck                      0 non-null      float64\n",
      " 34  shared_post_id                 2 non-null      float64\n",
      " 35  shared_time                    2 non-null      object \n",
      " 36  shared_user_id                 2 non-null      float64\n",
      " 37  shared_username                2 non-null      object \n",
      " 38  shared_post_url                2 non-null      object \n",
      " 39  available                      338 non-null    bool   \n",
      " 40  comments_full                  338 non-null    object \n",
      " 41  reactors                       338 non-null    object \n",
      " 42  w3_fb_url                      323 non-null    object \n",
      " 43  reactions                      338 non-null    object \n",
      " 44  reaction_count                 338 non-null    int64  \n",
      " 45  with                           21 non-null     object \n",
      " 46  page_id                        336 non-null    float64\n",
      " 47  sharers                        0 non-null      float64\n",
      " 48  image_id                       118 non-null    float64\n",
      " 49  image_ids                      338 non-null    object \n",
      " 50  was_live                       336 non-null    object \n",
      " 51  fetched_time                   338 non-null    object \n",
      "dtypes: bool(2), float64(16), int64(3), object(31)\n",
      "memory usage: 132.8+ KB\n"
     ]
    }
   ],
   "source": [
    "NASA_df2.info()"
   ],
   "metadata": {
    "collapsed": false,
    "ExecuteTime": {
     "end_time": "2023-11-28T05:57:51.163409800Z",
     "start_time": "2023-11-28T05:57:51.104718500Z"
    }
   }
  },
  {
   "cell_type": "code",
   "execution_count": 72,
   "outputs": [
    {
     "data": {
      "text/plain": "                                                  text                 time  \\\n0    Our new sky-mapping space telescope SPHEREx ta...  2023-11-25 22:04:03   \n1    There’s space for the whole family on NASA+!\\n...  2023-11-24 22:31:58   \n2    Getting ready for a long drive? Looking for so...  2023-11-23 04:36:07   \n3    Earlier this year, our Ingenuity helicopter co...  2023-11-23 02:18:03   \n4    #HappyThanksgiving from space!\\n\\nOrbiting our...  2023-11-22 23:27:18   \n..                                                 ...                  ...   \n333  Astronaut Dr. Jonny Kim joins Anita Dey, strat...  2023-05-18 01:14:40   \n334  THURS, 25 MAY\\nLaunch of Cyclone-Tracking TROP...  2023-05-17 05:49:58   \n335  A finding from NASA's James Webb Space Telesco...  2023-05-16 01:27:27   \n336  Who made you the star you are today? Mention t...  2023-05-15 00:45:12   \n337  Our first space station launched nearly 50 yea...  2023-05-13 23:32:03   \n\n     comments  shares                                               link  \\\n0        92.0     160  http://nasa.gov/subscribe?fbclid=IwAR3BuT7EGef...   \n1       148.0     169  https://go.nasa.gov/3QTPPN5?fbclid=IwAR2RIEb_q...   \n2      1251.0     296  https://bit.ly/3MJRZNM?fbclid=IwAR3vtU0By8iCtI...   \n3       119.0     168  https://go.nasa.gov/47mshY0?fbclid=IwAR0gQNRx7...   \n4       445.0     484                                                NaN   \n..        ...     ...                                                ...   \n333     116.0     137  http://nasa.gov/faces-of-nasa?fbclid=IwAR27I_x...   \n334      88.0       0  https://media4.giphy.com/media/Q7ozWVYCR0nyW2r...   \n335     280.0     222  https://www.nasa.gov/feature/goddard/2023/nasa...   \n336     171.0     250                                                NaN   \n337     611.0     693  https://go.nasa.gov/44Y7Xve?fbclid=IwAR145ZjVa...   \n\n                                                 links  \\\n0    [{'link': '/hashtag/artemis?refid=52&__tn__=%2...   \n1    [{'link': '/hashtag/blackholefriday?refid=52&_...   \n2    [{'link': 'https://lm.facebook.com/l.php?u=htt...   \n3    [{'link': '/NASAPersevere?eav=AfZplTRfGjp7VlLa...   \n4    [{'link': '/hashtag/happythanksgiving?refid=52...   \n..                                                 ...   \n333  [{'link': 'https://lm.facebook.com/l.php?u=htt...   \n334  [{'link': '/events/feed/watch/?feed_data%5Brep...   \n335  [{'link': '/NASAWebb?eav=AfaLCZ6ylAPN1yh5Z84YL...   \n336  [{'link': '/hashtag/mothersday?__tn__=%2As-R&p...   \n337  [{'link': '/NASAKennedy?eav=AfZvN-g8I6fZIkAqOO...   \n\n                                              username  \\\n0    NASA - National Aeronautics and Space Administ...   \n1    NASA - National Aeronautics and Space Administ...   \n2    NASA - National Aeronautics and Space Administ...   \n3    NASA - National Aeronautics and Space Administ...   \n4    NASA - National Aeronautics and Space Administ...   \n..                                                 ...   \n333  NASA - National Aeronautics and Space Administ...   \n334  NASA - National Aeronautics and Space Administ...   \n335  NASA - National Aeronautics and Space Administ...   \n336  NASA - National Aeronautics and Space Administ...   \n337  NASA - National Aeronautics and Space Administ...   \n\n                                         comments_full  \\\n0    [{'comment_id': '660369116281981', 'comment_ur...   \n1    [{'comment_id': '881863933349145', 'comment_ur...   \n2    [{'comment_id': '1067008137665970', 'comment_u...   \n3    [{'comment_id': '1446991415854582', 'comment_u...   \n4    [{'comment_id': '693678946058649', 'comment_ur...   \n..                                                 ...   \n333                                                 []   \n334  [{'comment_id': '987548015608528', 'comment_ur...   \n335                                                 []   \n336                                                 []   \n337                                                 []   \n\n                                             reactions  reaction_count  \n0    {'like': 637, 'love': 113, 'haha': 5, 'wow': 2...             764  \n1    {'like': 817, 'love': 235, 'haha': 10, 'wow': ...            1082  \n2    {'like': 3532, 'love': 690, 'haha': 365, 'wow'...            4655  \n3    {'like': 1219, 'love': 270, 'haha': 9, 'wow': ...            1551  \n4    {'like': 2091, 'love': 739, 'haha': 54, 'wow':...            2950  \n..                                                 ...             ...  \n333  {'like': 1174, 'love': 188, 'haha': 15, 'wow':...            1395  \n334  {'like': 564, 'love': 67, 'haha': 4, 'wow': 5,...             645  \n335  {'like': 1860, 'love': 245, 'haha': 29, 'wow':...            2218  \n336  {'like': 1879, 'love': 503, 'haha': 15, 'wow':...            2437  \n337  {'like': 6493, 'love': 1186, 'haha': 93, 'wow'...            7890  \n\n[338 rows x 10 columns]",
      "text/html": "<div>\n<style scoped>\n    .dataframe tbody tr th:only-of-type {\n        vertical-align: middle;\n    }\n\n    .dataframe tbody tr th {\n        vertical-align: top;\n    }\n\n    .dataframe thead th {\n        text-align: right;\n    }\n</style>\n<table border=\"1\" class=\"dataframe\">\n  <thead>\n    <tr style=\"text-align: right;\">\n      <th></th>\n      <th>text</th>\n      <th>time</th>\n      <th>comments</th>\n      <th>shares</th>\n      <th>link</th>\n      <th>links</th>\n      <th>username</th>\n      <th>comments_full</th>\n      <th>reactions</th>\n      <th>reaction_count</th>\n    </tr>\n  </thead>\n  <tbody>\n    <tr>\n      <th>0</th>\n      <td>Our new sky-mapping space telescope SPHEREx ta...</td>\n      <td>2023-11-25 22:04:03</td>\n      <td>92.0</td>\n      <td>160</td>\n      <td>http://nasa.gov/subscribe?fbclid=IwAR3BuT7EGef...</td>\n      <td>[{'link': '/hashtag/artemis?refid=52&amp;__tn__=%2...</td>\n      <td>NASA - National Aeronautics and Space Administ...</td>\n      <td>[{'comment_id': '660369116281981', 'comment_ur...</td>\n      <td>{'like': 637, 'love': 113, 'haha': 5, 'wow': 2...</td>\n      <td>764</td>\n    </tr>\n    <tr>\n      <th>1</th>\n      <td>There’s space for the whole family on NASA+!\\n...</td>\n      <td>2023-11-24 22:31:58</td>\n      <td>148.0</td>\n      <td>169</td>\n      <td>https://go.nasa.gov/3QTPPN5?fbclid=IwAR2RIEb_q...</td>\n      <td>[{'link': '/hashtag/blackholefriday?refid=52&amp;_...</td>\n      <td>NASA - National Aeronautics and Space Administ...</td>\n      <td>[{'comment_id': '881863933349145', 'comment_ur...</td>\n      <td>{'like': 817, 'love': 235, 'haha': 10, 'wow': ...</td>\n      <td>1082</td>\n    </tr>\n    <tr>\n      <th>2</th>\n      <td>Getting ready for a long drive? Looking for so...</td>\n      <td>2023-11-23 04:36:07</td>\n      <td>1251.0</td>\n      <td>296</td>\n      <td>https://bit.ly/3MJRZNM?fbclid=IwAR3vtU0By8iCtI...</td>\n      <td>[{'link': 'https://lm.facebook.com/l.php?u=htt...</td>\n      <td>NASA - National Aeronautics and Space Administ...</td>\n      <td>[{'comment_id': '1067008137665970', 'comment_u...</td>\n      <td>{'like': 3532, 'love': 690, 'haha': 365, 'wow'...</td>\n      <td>4655</td>\n    </tr>\n    <tr>\n      <th>3</th>\n      <td>Earlier this year, our Ingenuity helicopter co...</td>\n      <td>2023-11-23 02:18:03</td>\n      <td>119.0</td>\n      <td>168</td>\n      <td>https://go.nasa.gov/47mshY0?fbclid=IwAR0gQNRx7...</td>\n      <td>[{'link': '/NASAPersevere?eav=AfZplTRfGjp7VlLa...</td>\n      <td>NASA - National Aeronautics and Space Administ...</td>\n      <td>[{'comment_id': '1446991415854582', 'comment_u...</td>\n      <td>{'like': 1219, 'love': 270, 'haha': 9, 'wow': ...</td>\n      <td>1551</td>\n    </tr>\n    <tr>\n      <th>4</th>\n      <td>#HappyThanksgiving from space!\\n\\nOrbiting our...</td>\n      <td>2023-11-22 23:27:18</td>\n      <td>445.0</td>\n      <td>484</td>\n      <td>NaN</td>\n      <td>[{'link': '/hashtag/happythanksgiving?refid=52...</td>\n      <td>NASA - National Aeronautics and Space Administ...</td>\n      <td>[{'comment_id': '693678946058649', 'comment_ur...</td>\n      <td>{'like': 2091, 'love': 739, 'haha': 54, 'wow':...</td>\n      <td>2950</td>\n    </tr>\n    <tr>\n      <th>...</th>\n      <td>...</td>\n      <td>...</td>\n      <td>...</td>\n      <td>...</td>\n      <td>...</td>\n      <td>...</td>\n      <td>...</td>\n      <td>...</td>\n      <td>...</td>\n      <td>...</td>\n    </tr>\n    <tr>\n      <th>333</th>\n      <td>Astronaut Dr. Jonny Kim joins Anita Dey, strat...</td>\n      <td>2023-05-18 01:14:40</td>\n      <td>116.0</td>\n      <td>137</td>\n      <td>http://nasa.gov/faces-of-nasa?fbclid=IwAR27I_x...</td>\n      <td>[{'link': 'https://lm.facebook.com/l.php?u=htt...</td>\n      <td>NASA - National Aeronautics and Space Administ...</td>\n      <td>[]</td>\n      <td>{'like': 1174, 'love': 188, 'haha': 15, 'wow':...</td>\n      <td>1395</td>\n    </tr>\n    <tr>\n      <th>334</th>\n      <td>THURS, 25 MAY\\nLaunch of Cyclone-Tracking TROP...</td>\n      <td>2023-05-17 05:49:58</td>\n      <td>88.0</td>\n      <td>0</td>\n      <td>https://media4.giphy.com/media/Q7ozWVYCR0nyW2r...</td>\n      <td>[{'link': '/events/feed/watch/?feed_data%5Brep...</td>\n      <td>NASA - National Aeronautics and Space Administ...</td>\n      <td>[{'comment_id': '987548015608528', 'comment_ur...</td>\n      <td>{'like': 564, 'love': 67, 'haha': 4, 'wow': 5,...</td>\n      <td>645</td>\n    </tr>\n    <tr>\n      <th>335</th>\n      <td>A finding from NASA's James Webb Space Telesco...</td>\n      <td>2023-05-16 01:27:27</td>\n      <td>280.0</td>\n      <td>222</td>\n      <td>https://www.nasa.gov/feature/goddard/2023/nasa...</td>\n      <td>[{'link': '/NASAWebb?eav=AfaLCZ6ylAPN1yh5Z84YL...</td>\n      <td>NASA - National Aeronautics and Space Administ...</td>\n      <td>[]</td>\n      <td>{'like': 1860, 'love': 245, 'haha': 29, 'wow':...</td>\n      <td>2218</td>\n    </tr>\n    <tr>\n      <th>336</th>\n      <td>Who made you the star you are today? Mention t...</td>\n      <td>2023-05-15 00:45:12</td>\n      <td>171.0</td>\n      <td>250</td>\n      <td>NaN</td>\n      <td>[{'link': '/hashtag/mothersday?__tn__=%2As-R&amp;p...</td>\n      <td>NASA - National Aeronautics and Space Administ...</td>\n      <td>[]</td>\n      <td>{'like': 1879, 'love': 503, 'haha': 15, 'wow':...</td>\n      <td>2437</td>\n    </tr>\n    <tr>\n      <th>337</th>\n      <td>Our first space station launched nearly 50 yea...</td>\n      <td>2023-05-13 23:32:03</td>\n      <td>611.0</td>\n      <td>693</td>\n      <td>https://go.nasa.gov/44Y7Xve?fbclid=IwAR145ZjVa...</td>\n      <td>[{'link': '/NASAKennedy?eav=AfZvN-g8I6fZIkAqOO...</td>\n      <td>NASA - National Aeronautics and Space Administ...</td>\n      <td>[]</td>\n      <td>{'like': 6493, 'love': 1186, 'haha': 93, 'wow'...</td>\n      <td>7890</td>\n    </tr>\n  </tbody>\n</table>\n<p>338 rows × 10 columns</p>\n</div>"
     },
     "execution_count": 72,
     "metadata": {},
     "output_type": "execute_result"
    }
   ],
   "source": [
    "useful = ['text', 'time', 'comments', 'shares', 'link', 'links', 'username', 'comments_full',\n",
    "          'reactions', 'reaction_count']\n",
    "NASA_final_df = NASA_df2[useful]\n",
    "NASA_final_df"
   ],
   "metadata": {
    "collapsed": false,
    "ExecuteTime": {
     "end_time": "2023-11-28T05:57:51.183087700Z",
     "start_time": "2023-11-28T05:57:51.136320900Z"
    }
   }
  },
  {
   "cell_type": "code",
   "execution_count": 73,
   "outputs": [
    {
     "name": "stdout",
     "output_type": "stream",
     "text": [
      "<class 'pandas.core.frame.DataFrame'>\n",
      "RangeIndex: 338 entries, 0 to 337\n",
      "Data columns (total 10 columns):\n",
      " #   Column          Non-Null Count  Dtype         \n",
      "---  ------          --------------  -----         \n",
      " 0   text            338 non-null    object        \n",
      " 1   time            338 non-null    datetime64[ns]\n",
      " 2   comments        336 non-null    float64       \n",
      " 3   shares          338 non-null    int64         \n",
      " 4   link            312 non-null    object        \n",
      " 5   links           338 non-null    object        \n",
      " 6   username        338 non-null    object        \n",
      " 7   comments_full   338 non-null    object        \n",
      " 8   reactions       338 non-null    object        \n",
      " 9   reaction_count  338 non-null    int64         \n",
      "dtypes: datetime64[ns](1), float64(1), int64(2), object(6)\n",
      "memory usage: 26.5+ KB\n"
     ]
    },
    {
     "name": "stderr",
     "output_type": "stream",
     "text": [
      "C:\\Users\\Admin\\AppData\\Local\\Temp\\ipykernel_15388\\4219315384.py:1: SettingWithCopyWarning: \n",
      "A value is trying to be set on a copy of a slice from a DataFrame.\n",
      "Try using .loc[row_indexer,col_indexer] = value instead\n",
      "\n",
      "See the caveats in the documentation: https://pandas.pydata.org/pandas-docs/stable/user_guide/indexing.html#returning-a-view-versus-a-copy\n",
      "  NASA_final_df['time'] = pd.to_datetime(NASA_final_df['time'])\n"
     ]
    }
   ],
   "source": [
    "NASA_final_df['time'] = pd.to_datetime(NASA_final_df['time'])\n",
    "NASA_final_df.info()"
   ],
   "metadata": {
    "collapsed": false,
    "ExecuteTime": {
     "end_time": "2023-11-28T05:57:51.236370Z",
     "start_time": "2023-11-28T05:57:51.183087700Z"
    }
   }
  },
  {
   "cell_type": "code",
   "execution_count": 74,
   "outputs": [
    {
     "data": {
      "text/plain": "0"
     },
     "execution_count": 74,
     "metadata": {},
     "output_type": "execute_result"
    }
   ],
   "source": [
    "NASA_final_df.duplicated().sum()"
   ],
   "metadata": {
    "collapsed": false,
    "ExecuteTime": {
     "end_time": "2023-11-28T05:57:51.347632100Z",
     "start_time": "2023-11-28T05:57:51.197910400Z"
    }
   }
  },
  {
   "cell_type": "code",
   "execution_count": 75,
   "outputs": [
    {
     "data": {
      "text/plain": "text               0\ntime               0\ncomments           2\nshares             0\nlink              26\nlinks              0\nusername           0\ncomments_full      0\nreactions          0\nreaction_count     0\ndtype: int64"
     },
     "execution_count": 75,
     "metadata": {},
     "output_type": "execute_result"
    }
   ],
   "source": [
    "NASA_final_df.isnull().sum()"
   ],
   "metadata": {
    "collapsed": false,
    "ExecuteTime": {
     "end_time": "2023-11-28T05:57:51.401415400Z",
     "start_time": "2023-11-28T05:57:51.231922200Z"
    }
   }
  },
  {
   "cell_type": "code",
   "execution_count": 76,
   "outputs": [
    {
     "data": {
      "text/plain": "(79, 10)"
     },
     "execution_count": 76,
     "metadata": {},
     "output_type": "execute_result"
    }
   ],
   "source": [
    "not_empty = NASA_final_df[NASA_final_df['comments_full'].apply(lambda x : (len(x) > 2))]\n",
    "not_empty.shape"
   ],
   "metadata": {
    "collapsed": false,
    "ExecuteTime": {
     "end_time": "2023-11-28T05:57:51.486399700Z",
     "start_time": "2023-11-28T05:57:51.253445500Z"
    }
   }
  },
  {
   "cell_type": "code",
   "execution_count": 77,
   "outputs": [
    {
     "name": "stderr",
     "output_type": "stream",
     "text": [
      "C:\\Users\\Admin\\AppData\\Local\\Temp\\ipykernel_15388\\3557958831.py:1: SettingWithCopyWarning: \n",
      "A value is trying to be set on a copy of a slice from a DataFrame.\n",
      "Try using .loc[row_indexer,col_indexer] = value instead\n",
      "\n",
      "See the caveats in the documentation: https://pandas.pydata.org/pandas-docs/stable/user_guide/indexing.html#returning-a-view-versus-a-copy\n",
      "  NASA_final_df['comments_full'] = NASA_final_df['comments_full'].replace('[]', None)\n"
     ]
    },
    {
     "data": {
      "text/plain": "0      [{'comment_id': '660369116281981', 'comment_ur...\n1      [{'comment_id': '881863933349145', 'comment_ur...\n2      [{'comment_id': '1067008137665970', 'comment_u...\n3      [{'comment_id': '1446991415854582', 'comment_u...\n4      [{'comment_id': '693678946058649', 'comment_ur...\n                             ...                        \n333                                                 None\n334    [{'comment_id': '987548015608528', 'comment_ur...\n335                                                 None\n336                                                 None\n337                                                 None\nName: comments_full, Length: 338, dtype: object"
     },
     "execution_count": 77,
     "metadata": {},
     "output_type": "execute_result"
    }
   ],
   "source": [
    "NASA_final_df['comments_full'] = NASA_final_df['comments_full'].replace('[]', None)\n",
    "NASA_final_df['comments_full']"
   ],
   "metadata": {
    "collapsed": false,
    "ExecuteTime": {
     "end_time": "2023-11-28T05:57:51.486399700Z",
     "start_time": "2023-11-28T05:57:51.264057300Z"
    }
   }
  },
  {
   "cell_type": "code",
   "execution_count": 78,
   "outputs": [],
   "source": [
    "NASA_final_df = NASA_final_df.fillna(NASA_df)"
   ],
   "metadata": {
    "collapsed": false,
    "ExecuteTime": {
     "end_time": "2023-11-28T05:57:51.486399700Z",
     "start_time": "2023-11-28T05:57:51.291191400Z"
    }
   }
  },
  {
   "cell_type": "code",
   "execution_count": 79,
   "outputs": [
    {
     "name": "stdout",
     "output_type": "stream",
     "text": [
      "<class 'pandas.core.series.Series'>\n",
      "RangeIndex: 338 entries, 0 to 337\n",
      "Series name: comments_full\n",
      "Non-Null Count  Dtype \n",
      "--------------  ----- \n",
      "338 non-null    object\n",
      "dtypes: object(1)\n",
      "memory usage: 2.8+ KB\n"
     ]
    }
   ],
   "source": [
    "NASA_final_df['comments_full'] = NASA_final_df['comments_full'].fillna('[]');\n",
    "NASA_final_df['comments_full'].info()"
   ],
   "metadata": {
    "collapsed": false,
    "ExecuteTime": {
     "end_time": "2023-11-28T05:57:51.486399700Z",
     "start_time": "2023-11-28T05:57:51.300520100Z"
    }
   }
  },
  {
   "cell_type": "code",
   "execution_count": 80,
   "outputs": [
    {
     "data": {
      "text/plain": "(125, 10)"
     },
     "execution_count": 80,
     "metadata": {},
     "output_type": "execute_result"
    }
   ],
   "source": [
    "not_empty = NASA_final_df[NASA_final_df['comments_full'].apply(lambda x : (len(x) > 2))]\n",
    "not_empty.shape"
   ],
   "metadata": {
    "collapsed": false,
    "ExecuteTime": {
     "end_time": "2023-11-28T05:57:51.486399700Z",
     "start_time": "2023-11-28T05:57:51.312333Z"
    }
   }
  },
  {
   "cell_type": "code",
   "execution_count": 81,
   "outputs": [],
   "source": [
    "NASA_final_df['comments'] = NASA_final_df['comments'].fillna(0)\n",
    "NASA_final_df['link'] = NASA_final_df['link'].fillna('')"
   ],
   "metadata": {
    "collapsed": false,
    "ExecuteTime": {
     "end_time": "2023-11-28T05:57:51.486399700Z",
     "start_time": "2023-11-28T05:57:51.329693700Z"
    }
   }
  },
  {
   "cell_type": "code",
   "execution_count": 82,
   "outputs": [],
   "source": [
    "NASA_final_df.to_csv('Data/NASA_final.csv',index=False)"
   ],
   "metadata": {
    "collapsed": false,
    "ExecuteTime": {
     "end_time": "2023-11-28T05:57:51.659346900Z",
     "start_time": "2023-11-28T05:57:51.343990200Z"
    }
   }
  }
 ],
 "metadata": {
  "kernelspec": {
   "display_name": "Python 3",
   "language": "python",
   "name": "python3"
  },
  "language_info": {
   "codemirror_mode": {
    "name": "ipython",
    "version": 2
   },
   "file_extension": ".py",
   "mimetype": "text/x-python",
   "name": "python",
   "nbconvert_exporter": "python",
   "pygments_lexer": "ipython2",
   "version": "2.7.6"
  }
 },
 "nbformat": 4,
 "nbformat_minor": 0
}
