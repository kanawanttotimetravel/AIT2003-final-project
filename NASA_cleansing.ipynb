{
 "cells": [
  {
   "cell_type": "code",
   "execution_count": 83,
   "metadata": {
    "collapsed": true,
    "ExecuteTime": {
     "end_time": "2023-11-28T06:03:12.379135400Z",
     "start_time": "2023-11-28T06:03:12.350676Z"
    }
   },
   "outputs": [],
   "source": [
    "import numpy as np\n",
    "import pandas as pd"
   ]
  },
  {
   "cell_type": "code",
   "execution_count": 84,
   "outputs": [],
   "source": [
    "NASA_df = pd.read_csv('Data/NASA.csv')"
   ],
   "metadata": {
    "collapsed": false,
    "ExecuteTime": {
     "end_time": "2023-11-28T06:03:12.539173300Z",
     "start_time": "2023-11-28T06:03:12.369091700Z"
    }
   }
  },
  {
   "cell_type": "code",
   "execution_count": 85,
   "outputs": [
    {
     "name": "stdout",
     "output_type": "stream",
     "text": [
      "<class 'pandas.core.frame.DataFrame'>\n",
      "RangeIndex: 199 entries, 0 to 198\n",
      "Data columns (total 51 columns):\n",
      " #   Column                         Non-Null Count  Dtype  \n",
      "---  ------                         --------------  -----  \n",
      " 0   post_id                        199 non-null    int64  \n",
      " 1   text                           197 non-null    object \n",
      " 2   post_text                      189 non-null    object \n",
      " 3   shared_text                    42 non-null     object \n",
      " 4   original_text                  0 non-null      float64\n",
      " 5   time                           199 non-null    object \n",
      " 6   timestamp                      199 non-null    int64  \n",
      " 7   image                          84 non-null     object \n",
      " 8   image_lowquality               199 non-null    object \n",
      " 9   images                         199 non-null    object \n",
      " 10  images_description             199 non-null    object \n",
      " 11  images_lowquality              199 non-null    object \n",
      " 12  images_lowquality_description  199 non-null    object \n",
      " 13  video                          76 non-null     object \n",
      " 14  video_duration_seconds         0 non-null      float64\n",
      " 15  video_height                   0 non-null      float64\n",
      " 16  video_id                       76 non-null     float64\n",
      " 17  video_quality                  0 non-null      float64\n",
      " 18  video_size_MB                  0 non-null      float64\n",
      " 19  video_thumbnail                76 non-null     object \n",
      " 20  video_watches                  0 non-null      float64\n",
      " 21  video_width                    0 non-null      float64\n",
      " 22  likes                          116 non-null    float64\n",
      " 23  comments                       199 non-null    int64  \n",
      " 24  shares                         199 non-null    int64  \n",
      " 25  post_url                       199 non-null    object \n",
      " 26  link                           169 non-null    object \n",
      " 27  links                          199 non-null    object \n",
      " 28  user_id                        199 non-null    int64  \n",
      " 29  username                       199 non-null    object \n",
      " 30  user_url                       199 non-null    object \n",
      " 31  is_live                        199 non-null    bool   \n",
      " 32  factcheck                      0 non-null      float64\n",
      " 33  shared_post_id                 4 non-null      float64\n",
      " 34  shared_time                    4 non-null      object \n",
      " 35  shared_user_id                 4 non-null      float64\n",
      " 36  shared_username                4 non-null      object \n",
      " 37  shared_post_url                4 non-null      object \n",
      " 38  available                      199 non-null    bool   \n",
      " 39  comments_full                  199 non-null    object \n",
      " 40  reactors                       83 non-null     object \n",
      " 41  w3_fb_url                      83 non-null     object \n",
      " 42  reactions                      83 non-null     object \n",
      " 43  reaction_count                 199 non-null    int64  \n",
      " 44  with                           5 non-null      object \n",
      " 45  page_id                        199 non-null    int64  \n",
      " 46  sharers                        0 non-null      float64\n",
      " 47  image_id                       80 non-null     float64\n",
      " 48  image_ids                      199 non-null    object \n",
      " 49  was_live                       199 non-null    bool   \n",
      " 50  fetched_time                   83 non-null     object \n",
      "dtypes: bool(3), float64(14), int64(7), object(27)\n",
      "memory usage: 75.3+ KB\n"
     ]
    }
   ],
   "source": [
    "NASA_df.info()"
   ],
   "metadata": {
    "collapsed": false,
    "ExecuteTime": {
     "end_time": "2023-11-28T06:03:12.599959900Z",
     "start_time": "2023-11-28T06:03:12.554470200Z"
    }
   }
  },
  {
   "cell_type": "code",
   "execution_count": 86,
   "outputs": [],
   "source": [
    "NASA_df2 = pd.read_csv(\"Data/NASA2.csv\")"
   ],
   "metadata": {
    "collapsed": false,
    "ExecuteTime": {
     "end_time": "2023-11-28T06:03:12.691084900Z",
     "start_time": "2023-11-28T06:03:12.573818Z"
    }
   }
  },
  {
   "cell_type": "code",
   "execution_count": 87,
   "outputs": [
    {
     "name": "stdout",
     "output_type": "stream",
     "text": [
      "<class 'pandas.core.frame.DataFrame'>\n",
      "RangeIndex: 338 entries, 0 to 337\n",
      "Data columns (total 52 columns):\n",
      " #   Column                         Non-Null Count  Dtype  \n",
      "---  ------                         --------------  -----  \n",
      " 0   original_request_url           338 non-null    object \n",
      " 1   post_url                       338 non-null    object \n",
      " 2   post_id                        338 non-null    object \n",
      " 3   text                           338 non-null    object \n",
      " 4   post_text                      323 non-null    object \n",
      " 5   shared_text                    98 non-null     object \n",
      " 6   original_text                  1 non-null      object \n",
      " 7   time                           338 non-null    object \n",
      " 8   timestamp                      333 non-null    float64\n",
      " 9   image                          134 non-null    object \n",
      " 10  image_lowquality               338 non-null    object \n",
      " 11  images                         338 non-null    object \n",
      " 12  images_description             338 non-null    object \n",
      " 13  images_lowquality              338 non-null    object \n",
      " 14  images_lowquality_description  338 non-null    object \n",
      " 15  video                          133 non-null    object \n",
      " 16  video_duration_seconds         0 non-null      float64\n",
      " 17  video_height                   0 non-null      float64\n",
      " 18  video_id                       133 non-null    float64\n",
      " 19  video_quality                  0 non-null      float64\n",
      " 20  video_size_MB                  0 non-null      float64\n",
      " 21  video_thumbnail                129 non-null    object \n",
      " 22  video_watches                  0 non-null      float64\n",
      " 23  video_width                    0 non-null      float64\n",
      " 24  likes                          338 non-null    int64  \n",
      " 25  comments                       336 non-null    float64\n",
      " 26  shares                         338 non-null    int64  \n",
      " 27  link                           312 non-null    object \n",
      " 28  links                          338 non-null    object \n",
      " 29  user_id                        336 non-null    float64\n",
      " 30  username                       338 non-null    object \n",
      " 31  user_url                       338 non-null    object \n",
      " 32  is_live                        338 non-null    bool   \n",
      " 33  factcheck                      0 non-null      float64\n",
      " 34  shared_post_id                 2 non-null      float64\n",
      " 35  shared_time                    2 non-null      object \n",
      " 36  shared_user_id                 2 non-null      float64\n",
      " 37  shared_username                2 non-null      object \n",
      " 38  shared_post_url                2 non-null      object \n",
      " 39  available                      338 non-null    bool   \n",
      " 40  comments_full                  338 non-null    object \n",
      " 41  reactors                       338 non-null    object \n",
      " 42  w3_fb_url                      323 non-null    object \n",
      " 43  reactions                      338 non-null    object \n",
      " 44  reaction_count                 338 non-null    int64  \n",
      " 45  with                           21 non-null     object \n",
      " 46  page_id                        336 non-null    float64\n",
      " 47  sharers                        0 non-null      float64\n",
      " 48  image_id                       118 non-null    float64\n",
      " 49  image_ids                      338 non-null    object \n",
      " 50  was_live                       336 non-null    object \n",
      " 51  fetched_time                   338 non-null    object \n",
      "dtypes: bool(2), float64(16), int64(3), object(31)\n",
      "memory usage: 132.8+ KB\n"
     ]
    }
   ],
   "source": [
    "NASA_df2.info()"
   ],
   "metadata": {
    "collapsed": false,
    "ExecuteTime": {
     "end_time": "2023-11-28T06:03:12.710648700Z",
     "start_time": "2023-11-28T06:03:12.700011300Z"
    }
   }
  },
  {
   "cell_type": "code",
   "execution_count": 88,
   "outputs": [
    {
     "name": "stdout",
     "output_type": "stream",
     "text": [
      "<class 'pandas.core.frame.DataFrame'>\n",
      "RangeIndex: 338 entries, 0 to 337\n",
      "Data columns (total 10 columns):\n",
      " #   Column          Non-Null Count  Dtype  \n",
      "---  ------          --------------  -----  \n",
      " 0   text            338 non-null    object \n",
      " 1   time            338 non-null    object \n",
      " 2   comments        336 non-null    float64\n",
      " 3   shares          338 non-null    int64  \n",
      " 4   link            312 non-null    object \n",
      " 5   links           338 non-null    object \n",
      " 6   username        338 non-null    object \n",
      " 7   comments_full   338 non-null    object \n",
      " 8   reactions       338 non-null    object \n",
      " 9   reaction_count  338 non-null    int64  \n",
      "dtypes: float64(1), int64(2), object(7)\n",
      "memory usage: 26.5+ KB\n"
     ]
    }
   ],
   "source": [
    "useful = ['text', 'time', 'comments', 'shares', 'link', 'links', 'username', 'comments_full',\n",
    "          'reactions', 'reaction_count']\n",
    "NASA_final_df = NASA_df2[useful]\n",
    "NASA_final_df.info()"
   ],
   "metadata": {
    "collapsed": false,
    "ExecuteTime": {
     "end_time": "2023-11-28T06:03:12.790515600Z",
     "start_time": "2023-11-28T06:03:12.715419200Z"
    }
   }
  },
  {
   "cell_type": "code",
   "execution_count": 89,
   "outputs": [
    {
     "name": "stdout",
     "output_type": "stream",
     "text": [
      "<class 'pandas.core.frame.DataFrame'>\n",
      "RangeIndex: 338 entries, 0 to 337\n",
      "Data columns (total 10 columns):\n",
      " #   Column          Non-Null Count  Dtype         \n",
      "---  ------          --------------  -----         \n",
      " 0   text            338 non-null    object        \n",
      " 1   time            338 non-null    datetime64[ns]\n",
      " 2   comments        336 non-null    float64       \n",
      " 3   shares          338 non-null    int64         \n",
      " 4   link            312 non-null    object        \n",
      " 5   links           338 non-null    object        \n",
      " 6   username        338 non-null    object        \n",
      " 7   comments_full   338 non-null    object        \n",
      " 8   reactions       338 non-null    object        \n",
      " 9   reaction_count  338 non-null    int64         \n",
      "dtypes: datetime64[ns](1), float64(1), int64(2), object(6)\n",
      "memory usage: 26.5+ KB\n"
     ]
    },
    {
     "name": "stderr",
     "output_type": "stream",
     "text": [
      "C:\\Users\\Admin\\AppData\\Local\\Temp\\ipykernel_15388\\4219315384.py:1: SettingWithCopyWarning: \n",
      "A value is trying to be set on a copy of a slice from a DataFrame.\n",
      "Try using .loc[row_indexer,col_indexer] = value instead\n",
      "\n",
      "See the caveats in the documentation: https://pandas.pydata.org/pandas-docs/stable/user_guide/indexing.html#returning-a-view-versus-a-copy\n",
      "  NASA_final_df['time'] = pd.to_datetime(NASA_final_df['time'])\n"
     ]
    }
   ],
   "source": [
    "NASA_final_df['time'] = pd.to_datetime(NASA_final_df['time'])\n",
    "NASA_final_df.info()"
   ],
   "metadata": {
    "collapsed": false,
    "ExecuteTime": {
     "end_time": "2023-11-28T06:03:12.790515600Z",
     "start_time": "2023-11-28T06:03:12.731717300Z"
    }
   }
  },
  {
   "cell_type": "code",
   "execution_count": 90,
   "outputs": [
    {
     "data": {
      "text/plain": "0"
     },
     "execution_count": 90,
     "metadata": {},
     "output_type": "execute_result"
    }
   ],
   "source": [
    "NASA_final_df.duplicated().sum()"
   ],
   "metadata": {
    "collapsed": false,
    "ExecuteTime": {
     "end_time": "2023-11-28T06:03:12.812507700Z",
     "start_time": "2023-11-28T06:03:12.774809400Z"
    }
   }
  },
  {
   "cell_type": "code",
   "execution_count": 91,
   "outputs": [
    {
     "data": {
      "text/plain": "text               0\ntime               0\ncomments           2\nshares             0\nlink              26\nlinks              0\nusername           0\ncomments_full      0\nreactions          0\nreaction_count     0\ndtype: int64"
     },
     "execution_count": 91,
     "metadata": {},
     "output_type": "execute_result"
    }
   ],
   "source": [
    "NASA_final_df.isnull().sum()"
   ],
   "metadata": {
    "collapsed": false,
    "ExecuteTime": {
     "end_time": "2023-11-28T06:03:12.932106200Z",
     "start_time": "2023-11-28T06:03:12.790515600Z"
    }
   }
  },
  {
   "cell_type": "code",
   "execution_count": 92,
   "outputs": [
    {
     "data": {
      "text/plain": "(79, 10)"
     },
     "execution_count": 92,
     "metadata": {},
     "output_type": "execute_result"
    }
   ],
   "source": [
    "not_empty = NASA_final_df[NASA_final_df['comments_full'].apply(lambda x : (len(x) > 2))]\n",
    "not_empty.shape"
   ],
   "metadata": {
    "collapsed": false,
    "ExecuteTime": {
     "end_time": "2023-11-28T06:03:12.949409800Z",
     "start_time": "2023-11-28T06:03:12.812507700Z"
    }
   }
  },
  {
   "cell_type": "code",
   "execution_count": 93,
   "outputs": [
    {
     "name": "stderr",
     "output_type": "stream",
     "text": [
      "C:\\Users\\Admin\\AppData\\Local\\Temp\\ipykernel_15388\\3557958831.py:1: SettingWithCopyWarning: \n",
      "A value is trying to be set on a copy of a slice from a DataFrame.\n",
      "Try using .loc[row_indexer,col_indexer] = value instead\n",
      "\n",
      "See the caveats in the documentation: https://pandas.pydata.org/pandas-docs/stable/user_guide/indexing.html#returning-a-view-versus-a-copy\n",
      "  NASA_final_df['comments_full'] = NASA_final_df['comments_full'].replace('[]', None)\n"
     ]
    },
    {
     "data": {
      "text/plain": "0      [{'comment_id': '660369116281981', 'comment_ur...\n1      [{'comment_id': '881863933349145', 'comment_ur...\n2      [{'comment_id': '1067008137665970', 'comment_u...\n3      [{'comment_id': '1446991415854582', 'comment_u...\n4      [{'comment_id': '693678946058649', 'comment_ur...\n                             ...                        \n333                                                 None\n334    [{'comment_id': '987548015608528', 'comment_ur...\n335                                                 None\n336                                                 None\n337                                                 None\nName: comments_full, Length: 338, dtype: object"
     },
     "execution_count": 93,
     "metadata": {},
     "output_type": "execute_result"
    }
   ],
   "source": [
    "NASA_final_df['comments_full'] = NASA_final_df['comments_full'].replace('[]', None)\n",
    "NASA_final_df['comments_full']"
   ],
   "metadata": {
    "collapsed": false,
    "ExecuteTime": {
     "end_time": "2023-11-28T06:03:12.949409800Z",
     "start_time": "2023-11-28T06:03:12.823234700Z"
    }
   }
  },
  {
   "cell_type": "code",
   "execution_count": 94,
   "outputs": [],
   "source": [
    "NASA_final_df = NASA_final_df.fillna(NASA_df)"
   ],
   "metadata": {
    "collapsed": false,
    "ExecuteTime": {
     "end_time": "2023-11-28T06:03:12.949409800Z",
     "start_time": "2023-11-28T06:03:12.860009400Z"
    }
   }
  },
  {
   "cell_type": "code",
   "execution_count": 95,
   "outputs": [
    {
     "name": "stdout",
     "output_type": "stream",
     "text": [
      "<class 'pandas.core.series.Series'>\n",
      "RangeIndex: 338 entries, 0 to 337\n",
      "Series name: comments_full\n",
      "Non-Null Count  Dtype \n",
      "--------------  ----- \n",
      "338 non-null    object\n",
      "dtypes: object(1)\n",
      "memory usage: 2.8+ KB\n"
     ]
    }
   ],
   "source": [
    "NASA_final_df['comments_full'] = NASA_final_df['comments_full'].fillna('[]');\n",
    "NASA_final_df['comments_full'].info()"
   ],
   "metadata": {
    "collapsed": false,
    "ExecuteTime": {
     "end_time": "2023-11-28T06:03:12.949409800Z",
     "start_time": "2023-11-28T06:03:12.876300600Z"
    }
   }
  },
  {
   "cell_type": "code",
   "execution_count": 96,
   "outputs": [
    {
     "data": {
      "text/plain": "(125, 10)"
     },
     "execution_count": 96,
     "metadata": {},
     "output_type": "execute_result"
    }
   ],
   "source": [
    "not_empty = NASA_final_df[NASA_final_df['comments_full'].apply(lambda x : (len(x) > 2))]\n",
    "not_empty.shape"
   ],
   "metadata": {
    "collapsed": false,
    "ExecuteTime": {
     "end_time": "2023-11-28T06:03:12.949409800Z",
     "start_time": "2023-11-28T06:03:12.894345200Z"
    }
   }
  },
  {
   "cell_type": "code",
   "execution_count": 97,
   "outputs": [],
   "source": [
    "NASA_final_df['comments'] = NASA_final_df['comments'].fillna(0)\n",
    "NASA_final_df['link'] = NASA_final_df['link'].fillna('')"
   ],
   "metadata": {
    "collapsed": false,
    "ExecuteTime": {
     "end_time": "2023-11-28T06:03:12.979220800Z",
     "start_time": "2023-11-28T06:03:12.905062Z"
    }
   }
  },
  {
   "cell_type": "code",
   "execution_count": 98,
   "outputs": [],
   "source": [
    "NASA_final_df.to_csv('Data/NASA_final.csv',index=False)"
   ],
   "metadata": {
    "collapsed": false,
    "ExecuteTime": {
     "end_time": "2023-11-28T06:03:13.233268700Z",
     "start_time": "2023-11-28T06:03:12.923051100Z"
    }
   }
  }
 ],
 "metadata": {
  "kernelspec": {
   "display_name": "Python 3",
   "language": "python",
   "name": "python3"
  },
  "language_info": {
   "codemirror_mode": {
    "name": "ipython",
    "version": 2
   },
   "file_extension": ".py",
   "mimetype": "text/x-python",
   "name": "python",
   "nbconvert_exporter": "python",
   "pygments_lexer": "ipython2",
   "version": "2.7.6"
  }
 },
 "nbformat": 4,
 "nbformat_minor": 0
}
